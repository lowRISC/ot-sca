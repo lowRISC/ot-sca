{
 "cells": [
  {
   "cell_type": "markdown",
   "id": "1fcf6970-6112-43a8-a6b9-4b2dc2b4ea42",
   "metadata": {},
   "source": [
    "# Essentially same as otbn_find_bits.ipynb but streamlined for 25M captures."
   ]
  },
  {
   "cell_type": "code",
   "execution_count": null,
   "id": "9ae4d21c-2225-4aa3-85bc-ba3868d26e24",
   "metadata": {},
   "outputs": [],
   "source": [
    "import numpy as np\n",
    "#waves = np.load('waves_p256_streamed.npy')\n",
    "#waves = np.load('waves_p256_streamed_half1half0.npy')\n",
    "#waves = np.load('waves_p256_streamed_patterned.npy')\n",
    "waves = np.load('waves_p256_streamed_32bitblocks.npy')\n",
    "#wave = np.load('waves_p256_100M.npy')\n",
    "#wave = np.load('waves_p256_100M_2s.npy')"
   ]
  },
  {
   "cell_type": "code",
   "execution_count": null,
   "id": "8ed0a5fd-06ba-4f19-9c4b-95f29919168d",
   "metadata": {},
   "outputs": [],
   "source": [
    "import numpy as np\n",
    "import pandas as pd\n",
    "from scipy import signal\n",
    "\n",
    "def butter_highpass(cutoff, fs, order=5):\n",
    "    nyq = 0.5 * fs\n",
    "    normal_cutoff = cutoff / nyq \n",
    "    b, a = signal.butter(order, normal_cutoff, btype='high', analog=False)\n",
    "    return b, a\n",
    "\n",
    "def butter_highpass_filter(data, cutoff, fs, order=9):\n",
    "    b, a = butter_highpass(cutoff, fs, order=order)\n",
    "    y = signal.filtfilt(b, a, data)\n",
    "    return y"
   ]
  },
  {
   "cell_type": "code",
   "execution_count": null,
   "id": "54a4c4f6-67ac-4238-af62-f6d7b344af21",
   "metadata": {},
   "outputs": [],
   "source": [
    "filtered_waves = []\n",
    "for w in waves:\n",
    "    filtered_waves.append(butter_highpass_filter(w, 1e6, 100e6))"
   ]
  },
  {
   "cell_type": "code",
   "execution_count": null,
   "id": "1327a0af-d62b-414c-a07d-64af8c42ee94",
   "metadata": {
    "tags": []
   },
   "outputs": [],
   "source": [
    "def contiguous_regions(condition):\n",
    "    \"\"\"Finds contiguous True regions of the boolean array \"condition\". Returns\n",
    "    a 2D array where the first column is the start index of the region and the\n",
    "    second column is the end index.\"\"\"\n",
    "\n",
    "    # Find the indicies of changes in \"condition\"\n",
    "    d = np.diff(condition.astype(int))\n",
    "    idx, = d.nonzero() \n",
    "\n",
    "    # We need to start things after the change in \"condition\". Therefore, \n",
    "    # we'll shift the index by 1 to the right.\n",
    "    idx += 1\n",
    "\n",
    "    if condition[0]:\n",
    "        # If the start of condition is True prepend a 0\n",
    "        idx = np.r_[0, idx]\n",
    "\n",
    "    if condition[-1]:\n",
    "        # If the end of condition is True, append the length of the array\n",
    "        idx = np.r_[idx, condition.size] # Edit\n",
    "\n",
    "    # Reshape the result into two columns\n",
    "    idx.shape = (-1,2)\n",
    "    return idx\n"
   ]
  },
  {
   "cell_type": "markdown",
   "id": "7834275a-77ae-49f1-8423-d8655bca627b",
   "metadata": {},
   "source": [
    "### Find runs of samples below threshold value, then guess at bit start times:\n",
    "(keep only runs that are long enough)"
   ]
  },
  {
   "cell_type": "code",
   "execution_count": null,
   "id": "0a8ef704-6833-43d8-95bb-4d7a30f4fbdd",
   "metadata": {
    "tags": []
   },
   "outputs": [],
   "source": [
    "THRESHOLD = 0.1\n",
    "MIN_RUN_LENGTH = 500\n",
    "STOP=len(filtered_waves[0])\n",
    "\n",
    "bit_startss = []\n",
    "\n",
    "for w in filtered_waves:\n",
    "    condition = np.abs(w[:STOP]) < THRESHOLD\n",
    "    results = contiguous_regions(condition)\n",
    "    goods = results[np.where(results[:,1] - results[:,0] > MIN_RUN_LENGTH)]\n",
    "\n",
    "    bit_starts = []\n",
    "    idle_count = 0\n",
    "    max_active = 10\n",
    "    for i, idle_period in enumerate(goods[1:]):\n",
    "        #print('Processing start=%10d... ' % goods[i][0], end='')\n",
    "        if goods[i][0] - goods[i-1][1] <= max_active:\n",
    "            idle_count += 1\n",
    "            #print('idle_count=%d for start=%d, stop=%d' % (idle_count, goods[i][0], goods[i][1]))\n",
    "            if idle_count == 4:\n",
    "                #print('Found bit starting at %d' % goods[i+1][0])\n",
    "                bit_starts.append(goods[i][1]+1)\n",
    "                idle_count = 0\n",
    "        else:\n",
    "            #print('resetting idle_count for start=%d, stop=%d because delta=%d (%d, %d)' % (goods[i][0], goods[i][1], goods[i][0] - goods[i-1][1], goods[i][0], goods[i-1][1]))\n",
    "            idle_count = 1\n",
    "    \n",
    "    bit_startss.append(bit_starts)"
   ]
  },
  {
   "cell_type": "code",
   "execution_count": null,
   "id": "2df1880d-4557-4d05-8714-ffd4a8b874ad",
   "metadata": {},
   "outputs": [],
   "source": [
    "len(bit_startss[0])"
   ]
  },
  {
   "cell_type": "markdown",
   "id": "23e93c03-079e-49c2-a116-5640ab8e600a",
   "metadata": {},
   "source": [
    "### Sanity check the results:"
   ]
  },
  {
   "cell_type": "code",
   "execution_count": null,
   "id": "288e014d-22d5-4cf5-9ea7-da5b54cf7322",
   "metadata": {
    "tags": []
   },
   "outputs": [],
   "source": [
    "for bit_starts in bit_startss:\n",
    "    if len(bit_starts) != 256:\n",
    "        print('Oops, found %d bits :-/' % len(bit_starts))\n",
    "\n",
    "    duration = bit_starts[1] - bit_starts[0]\n",
    "    if duration != 27350:\n",
    "        print(\"Unexpected first bit duration: %d\" % duration)\n",
    "    for b in range(2, len(bit_starts)):\n",
    "        d = bit_starts[b] - bit_starts[b-1] \n",
    "        if d != duration:\n",
    "            print(\"Unexpected duration for bit %d: %d cycles\" % (b-1, d))\n"
   ]
  },
  {
   "cell_type": "markdown",
   "id": "c6881595-9713-4f57-8ca6-cb0af162135c",
   "metadata": {},
   "source": [
    "## Superimpose all bits!"
   ]
  },
  {
   "cell_type": "code",
   "execution_count": null,
   "id": "b2a5103f-f00d-4d41-9a83-f5efe4ce72ec",
   "metadata": {},
   "outputs": [],
   "source": [
    "filtered_wave = filtered_waves[0]\n",
    "\n",
    "bits = []\n",
    "bit_size = bit_starts[1] - bit_starts[0]\n",
    "for start in bit_starts:\n",
    "    bits.append(filtered_wave[start:start+bit_size])"
   ]
  },
  {
   "cell_type": "code",
   "execution_count": null,
   "id": "96f154f7-9289-46bc-ab10-2be2f0be7c61",
   "metadata": {
    "tags": []
   },
   "outputs": [],
   "source": [
    "import holoviews as hv\n",
    "from holoviews.operation import decimate\n",
    "from holoviews.operation.datashader import datashade, shade, dynspread\n",
    "from holoviews import opts\n",
    "import datashader as ds\n",
    "\n",
    "hv.extension('bokeh')\n",
    "\n",
    "lines = {i: hv.Curve(np.asarray(bits[i])) for i in range(len(bits[:22]))}\n",
    "linespread = dynspread(datashade(hv.NdOverlay(lines, kdims='k'), aggregator=ds.by('k', ds.count())))\n",
    "linespread.opts(opts.RGB(width=2400, height=1200))\n"
   ]
  },
  {
   "cell_type": "code",
   "execution_count": null,
   "id": "65151ebb-4d39-4cae-9288-5fb8a09e80f0",
   "metadata": {},
   "outputs": [],
   "source": [
    "#numbits = len(bits) #slow but will work\n",
    "numbits = 20\n",
    "\n",
    "import holoviews as hv\n",
    "from holoviews.operation import decimate\n",
    "from holoviews.operation.datashader import datashade, shade, dynspread\n",
    "hv.extension('bokeh')\n",
    "\n",
    "xrange = range(duration)\n",
    "\n",
    "from operator import mul\n",
    "from functools import reduce\n",
    "\n",
    "curves = [hv.Curve(zip(xrange, filtered_wave[bit_starts[i]:bit_starts[i]+duration])) for i in range(numbits)]\n",
    "\n",
    "#reduce(mul, curves).opts(width=2000, height=900)\n",
    "datashade(reduce(mul, curves)).opts(width=2000, height=900)"
   ]
  },
  {
   "cell_type": "markdown",
   "id": "7358cce1-5cc6-49bd-9912-e67e1de23db2",
   "metadata": {},
   "source": [
    "# Attack using markers from average 'one' and 'zero'"
   ]
  },
  {
   "cell_type": "code",
   "execution_count": null,
   "id": "bf48302e-9983-4a6d-9970-0566a6a6b93b",
   "metadata": {},
   "outputs": [],
   "source": [
    "# markers generated by otbn_find_bits.ipynb:\n",
    "markers = np.load('markers_25M.npy')"
   ]
  },
  {
   "cell_type": "code",
   "execution_count": null,
   "id": "5f3a45d8-1c73-4cdf-99c9-3dc76235b417",
   "metadata": {},
   "outputs": [],
   "source": [
    "scores = []\n",
    "for b in bit_starts:\n",
    "    score = 0\n",
    "    for marker in markers:\n",
    "        score += filtered_waves[0][b + marker]\n",
    "    scores.append(score)\n",
    "    "
   ]
  },
  {
   "cell_type": "code",
   "execution_count": null,
   "id": "f5fb38d6-2ccd-4125-8d11-4e61b9df537b",
   "metadata": {},
   "outputs": [],
   "source": [
    "allscores = []\n",
    "for b in range(256):\n",
    "    score = 0\n",
    "    for marker in markers:\n",
    "        for i,w in enumerate(filtered_waves):\n",
    "            score += w[bit_startss[i][b] + marker]\n",
    "    allscores.append(score/len(filtered_waves))"
   ]
  },
  {
   "cell_type": "code",
   "execution_count": null,
   "id": "c3a7bc88-b386-471c-9a2f-6b922c6f4a79",
   "metadata": {},
   "outputs": [],
   "source": [
    "import holoviews as hv\n",
    "from holoviews import opts\n",
    "hv.extension('bokeh')\n",
    "\n",
    "cscores = hv.Curve(scores)\n",
    "callscores = hv.Curve(allscores)\n",
    "#(cscores*callscores).opts(width=2000, height=600)\n",
    "(cscores).opts(width=2000, height=600)"
   ]
  },
  {
   "cell_type": "code",
   "execution_count": null,
   "id": "7f2c0d66-6c7c-45a9-9d5d-f39b905cf34e",
   "metadata": {},
   "outputs": [],
   "source": []
  }
 ],
 "metadata": {
  "kernelspec": {
   "display_name": "Python (venv37)",
   "language": "python",
   "name": "venv37"
  },
  "language_info": {
   "codemirror_mode": {
    "name": "ipython",
    "version": 3
   },
   "file_extension": ".py",
   "mimetype": "text/x-python",
   "name": "python",
   "nbconvert_exporter": "python",
   "pygments_lexer": "ipython3",
   "version": "3.7.4"
  }
 },
 "nbformat": 4,
 "nbformat_minor": 5
}
