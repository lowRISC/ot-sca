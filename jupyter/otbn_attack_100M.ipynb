{
 "cells": [
  {
   "cell_type": "markdown",
   "id": "bfd3c0d7-d728-4c58-bfc9-a8bb16547ea8",
   "metadata": {},
   "source": [
    "# Essentially same as otbn_find_bits.ipynb but streamlined for 100M captures."
   ]
  },
  {
   "cell_type": "code",
   "execution_count": null,
   "id": "9ae4d21c-2225-4aa3-85bc-ba3868d26e24",
   "metadata": {},
   "outputs": [],
   "source": [
    "import numpy as np\n",
    "#wave = np.load('waves_p256_100M_2s.npy')\n",
    "#wave = np.load('waves_p256_100M_2s_12bits.npy')\n",
    "#wave = np.load('waves_p256_100M_2s_12bits830.npy')\n",
    "wave = np.load('waves_p256_100M_2s_12bitsf0c.npy')"
   ]
  },
  {
   "cell_type": "code",
   "execution_count": null,
   "id": "0526fbd1-7d5b-41ad-9772-5a43a86f1fd2",
   "metadata": {},
   "outputs": [],
   "source": [
    "import numpy as np\n",
    "import pandas as pd\n",
    "from scipy import signal\n",
    "\n",
    "def butter_highpass(cutoff, fs, order=5):\n",
    "    nyq = 0.5 * fs\n",
    "    normal_cutoff = cutoff / nyq \n",
    "    b, a = signal.butter(order, normal_cutoff, btype='high', analog=False)\n",
    "    return b, a\n",
    "\n",
    "def butter_highpass_filter(data, cutoff, fs, order=9):\n",
    "    b, a = butter_highpass(cutoff, fs, order=order)\n",
    "    y = signal.filtfilt(b, a, data)\n",
    "    return y\n",
    "\n",
    "filtered_wave = butter_highpass_filter(wave, 6e6, 100e6) # for NON-streamed 100M capture"
   ]
  },
  {
   "cell_type": "markdown",
   "id": "fc50514e-aee0-48b8-a13e-cbea9facfa8b",
   "metadata": {},
   "source": [
    "### optional, if we need to plot to understand why we're not finding good bit times:"
   ]
  },
  {
   "cell_type": "code",
   "execution_count": null,
   "id": "be922e5e-8f90-48bb-805e-0b8a6ab34efd",
   "metadata": {},
   "outputs": [],
   "source": [
    "#samples = len(waves[0])\n",
    "samples = 220000\n",
    "base = 0\n",
    "\n",
    "import holoviews as hv\n",
    "from holoviews.operation import decimate\n",
    "from holoviews.operation.datashader import datashade, shade, dynspread\n",
    "hv.extension('bokeh')\n",
    "\n",
    "wf = datashade(hv.Curve(filtered_wave[base:base+samples]), cmap=['black'])\n",
    "(wf).opts(width=2000, height=600)"
   ]
  },
  {
   "cell_type": "code",
   "execution_count": null,
   "id": "1327a0af-d62b-414c-a07d-64af8c42ee94",
   "metadata": {
    "tags": []
   },
   "outputs": [],
   "source": [
    "def contiguous_regions(condition):\n",
    "    \"\"\"Finds contiguous True regions of the boolean array \"condition\". Returns\n",
    "    a 2D array where the first column is the start index of the region and the\n",
    "    second column is the end index.\"\"\"\n",
    "\n",
    "    # Find the indicies of changes in \"condition\"\n",
    "    d = np.diff(condition.astype(int))\n",
    "    idx, = d.nonzero() \n",
    "\n",
    "    # We need to start things after the change in \"condition\". Therefore, \n",
    "    # we'll shift the index by 1 to the right.\n",
    "    idx += 1\n",
    "\n",
    "    if condition[0]:\n",
    "        # If the start of condition is True prepend a 0\n",
    "        idx = np.r_[0, idx]\n",
    "\n",
    "    if condition[-1]:\n",
    "        # If the end of condition is True, append the length of the array\n",
    "        idx = np.r_[idx, condition.size] # Edit\n",
    "\n",
    "    # Reshape the result into two columns\n",
    "    idx.shape = (-1,2)\n",
    "    return idx\n"
   ]
  },
  {
   "cell_type": "markdown",
   "id": "7834275a-77ae-49f1-8423-d8655bca627b",
   "metadata": {},
   "source": [
    "### Find runs of samples below threshold value:\n",
    "(keep only runs that are long enough)"
   ]
  },
  {
   "cell_type": "code",
   "execution_count": null,
   "id": "857418be-4fc6-4e6a-a0e4-6b20bfbc1c18",
   "metadata": {
    "tags": []
   },
   "outputs": [],
   "source": [
    "# for 100M NOT streamed:\n",
    "THRESHOLD = 0.015\n",
    "MIN_RUN_LENGTH = 60 # default for the 128 1's / 128 0's\n",
    "#MIN_RUN_LENGTH = 40\n",
    "\n",
    "STOP=len(filtered_wave)\n",
    "#STOP=360000\n",
    "condition = np.abs(filtered_wave[:STOP]) < THRESHOLD\n",
    "\n",
    "# Print the start and stop indices of each region where the absolute \n",
    "# values of x are below 1, and the min and max of each of these regions\n",
    "results = contiguous_regions(condition)\n",
    "#print(len(results))\n",
    "goods = results[np.where(results[:,1] - results[:,0] > MIN_RUN_LENGTH)]\n",
    "print(len(goods))"
   ]
  },
  {
   "cell_type": "code",
   "execution_count": null,
   "id": "85d0c445-6ee1-4dad-a05b-eaaf7aea2b30",
   "metadata": {
    "tags": []
   },
   "outputs": [],
   "source": [
    "# to help debug:\n",
    "last_stop = 0\n",
    "for g in goods:\n",
    "    start = g[0]\n",
    "    stop = g[1]\n",
    "    l = stop-start\n",
    "    delta = start - last_stop\n",
    "    if 13000 < delta < 18000:\n",
    "        stat = 'ok'\n",
    "    else:\n",
    "        stat = 'OOOOPS?!?'\n",
    "    print('%8d %8d %8d %8d %s' % (l, delta, start, stop, stat))\n",
    "    last_stop = stop"
   ]
  },
  {
   "cell_type": "markdown",
   "id": "a9646758-f721-4cff-8fca-0f6ff6eac2e2",
   "metadata": {},
   "source": [
    "### Use these runs to guess at bit start times:"
   ]
  },
  {
   "cell_type": "code",
   "execution_count": null,
   "id": "ee4e31b2-4fd4-4894-8654-9998fb46313f",
   "metadata": {},
   "outputs": [],
   "source": [
    "raw_starts = []\n",
    "for i in range(1, len(goods), 2):\n",
    "    raw_starts.append(goods[i][1])"
   ]
  },
  {
   "cell_type": "code",
   "execution_count": null,
   "id": "40d73d69-c47f-4e5d-b890-18385e079a64",
   "metadata": {},
   "outputs": [],
   "source": [
    "raw_starts[:12]"
   ]
  },
  {
   "cell_type": "code",
   "execution_count": null,
   "id": "5ab571f2-fff9-4bc2-88d0-7e6593643d8e",
   "metadata": {},
   "outputs": [],
   "source": [
    "duration = raw_starts[1] - raw_starts[0]\n",
    "print(duration)"
   ]
  },
  {
   "cell_type": "markdown",
   "id": "6bc19cba-5131-4ae6-852a-0a0979332eca",
   "metadata": {},
   "source": [
    "### Now we make the bit start times more accurate by using the single isolated large peak that's about 650 samples in:\n",
    "hmm, not sure if this actually improves the results..."
   ]
  },
  {
   "cell_type": "code",
   "execution_count": null,
   "id": "8317277f-1800-4c78-aa4e-13ee7d819c2a",
   "metadata": {},
   "outputs": [],
   "source": [
    "wstart = 500\n",
    "wend = 700\n",
    "\n",
    "#wstart = 1550\n",
    "#wend = 1620\n",
    "\n",
    "base = np.argmax(filtered_wave[raw_starts[0]+wstart:raw_starts[0]+wend])\n",
    "bit_starts = [raw_starts[0]]\n",
    "for s in raw_starts[1:]:\n",
    "    loc = np.argmax(filtered_wave[s+wstart:s+wend])\n",
    "    offset = base-loc\n",
    "    #print(offset)\n",
    "    bit_starts.append(s + offset)"
   ]
  },
  {
   "cell_type": "code",
   "execution_count": null,
   "id": "18a9b82b-3b41-43ae-9086-5dd833d3467a",
   "metadata": {},
   "outputs": [],
   "source": [
    "len(raw_starts), len(bit_starts)"
   ]
  },
  {
   "cell_type": "code",
   "execution_count": null,
   "id": "eef36ad3-f1e8-4a90-81c2-9851b3d59f5f",
   "metadata": {},
   "outputs": [],
   "source": [
    "for b in range(11):\n",
    "    delta = raw_starts[b+1] - raw_starts[b]\n",
    "    print(delta, end='')\n",
    "    if not 31000 < delta < 33000:\n",
    "        print(' Ooops!')\n",
    "    else:\n",
    "        print()"
   ]
  },
  {
   "cell_type": "markdown",
   "id": "cf099ade-af2c-48fc-9472-a5d85fb7a6cd",
   "metadata": {},
   "source": [
    "# What if we use the SAD approach to find bits instead?"
   ]
  },
  {
   "cell_type": "code",
   "execution_count": null,
   "id": "22cbdba7-9109-4c88-ad02-99484d0288ca",
   "metadata": {},
   "outputs": [],
   "source": [
    "from bokeh.plotting import figure, show\n",
    "from bokeh.resources import INLINE\n",
    "from bokeh.io import output_notebook\n",
    "\n",
    "output_notebook(INLINE)\n",
    "\n",
    "samples = 120000\n",
    "xrange = range(samples)\n",
    "S = figure(width=2000, height=900)\n",
    "S.line(xrange, filtered_wave[:samples], color='blue')"
   ]
  },
  {
   "cell_type": "code",
   "execution_count": null,
   "id": "78a9b839-4e9b-41b7-ad04-85dbf3d8d028",
   "metadata": {},
   "outputs": [],
   "source": [
    "show(S)"
   ]
  },
  {
   "cell_type": "code",
   "execution_count": null,
   "id": "51cca3bc-857b-49ae-b909-414f7578b5ea",
   "metadata": {},
   "outputs": [],
   "source": [
    "#base = 45973\n",
    "#base = 43257\n",
    "base = 45067\n",
    "\n",
    "#cycles = 32150 # full bit\n",
    "#cycles = 32150//2 # half bit\n",
    "cycles = 2000 # something short\n",
    "#cycles = 80000 # *more* than one bit\n",
    "\n",
    "refbit = filtered_wave[base:base+cycles]\n",
    "\n",
    "from tqdm.notebook import tnrange\n",
    "diffs = []\n",
    "for i in tnrange(78000, 500000):\n",
    "    diffs.append(np.sum(abs(refbit - filtered_wave[i:i+len(refbit)])))"
   ]
  },
  {
   "cell_type": "code",
   "execution_count": null,
   "id": "34179a38-0396-4b96-98cf-1802bd347059",
   "metadata": {},
   "outputs": [],
   "source": [
    "base + 31350"
   ]
  },
  {
   "cell_type": "code",
   "execution_count": null,
   "id": "ccfb3f61-b056-447f-96b1-c1cce34b1616",
   "metadata": {},
   "outputs": [],
   "source": [
    "import holoviews as hv\n",
    "from holoviews.operation import decimate\n",
    "from holoviews.operation.datashader import datashade, shade, dynspread\n",
    "hv.extension('bokeh')\n",
    "\n",
    "datashade(hv.Curve(diffs)).opts(width=2000, height=900)"
   ]
  },
  {
   "cell_type": "markdown",
   "id": "7358cce1-5cc6-49bd-9912-e67e1de23db2",
   "metadata": {},
   "source": [
    "# Average 'one' and 'zero'"
   ]
  },
  {
   "cell_type": "code",
   "execution_count": null,
   "id": "b43bcecb-d5a9-48c7-9af3-c52d377b4a88",
   "metadata": {},
   "outputs": [],
   "source": [
    "duration"
   ]
  },
  {
   "cell_type": "code",
   "execution_count": null,
   "id": "25cf9d34-df7e-413b-9384-229263023dc7",
   "metadata": {},
   "outputs": [],
   "source": [
    "starts = raw_starts\n",
    "#starts = bit_starts"
   ]
  },
  {
   "cell_type": "code",
   "execution_count": null,
   "id": "e80ec020-a8ac-4360-9dfc-5dd899c20394",
   "metadata": {},
   "outputs": [],
   "source": [
    "# f0c: 1111_0000_1111"
   ]
  },
  {
   "cell_type": "code",
   "execution_count": null,
   "id": "d9df18bc-66c2-4de3-8100-064480486986",
   "metadata": {},
   "outputs": [],
   "source": [
    "avg_trace = np.zeros(duration)\n",
    "avg_ones = np.zeros(duration)\n",
    "avg_zeros = np.zeros(duration)\n",
    "\n",
    "for i, start in enumerate(starts[:12]):\n",
    "    avg_trace += filtered_wave[start:start+duration]\n",
    "    #if i < 6:\n",
    "    if i < 4 or i > 7:\n",
    "        avg_ones += filtered_wave[start:start+duration]\n",
    "    #elif i < 12:\n",
    "    elif 3 < i < 8:\n",
    "        avg_zeros += filtered_wave[start:start+duration]\n",
    "\n",
    "avg_trace /= 12 #len(bit_starts)\n",
    "#avg_ones /= 6 #len(bit_starts)/2\n",
    "#avg_zeros /= 6 #len(bit_starts)/2\n",
    "\n",
    "avg_ones /= 8 #len(bit_starts)/2\n",
    "avg_zeros /= 4 #len(bit_starts)/2\n"
   ]
  },
  {
   "cell_type": "code",
   "execution_count": null,
   "id": "492c5763-f5cf-477a-a42a-497095e729a1",
   "metadata": {},
   "outputs": [],
   "source": [
    "import holoviews as hv\n",
    "from holoviews.operation import decimate\n",
    "from holoviews.operation.datashader import datashade, shade, dynspread\n",
    "hv.extension('bokeh')\n",
    "\n",
    "xrange = range(duration)\n",
    "\n",
    "cavg_all = datashade(hv.Curve(avg_trace), cmap=['black'])\n",
    "cavg_ones = datashade(hv.Curve(avg_ones), cmap=['blue'])\n",
    "cavg_zeros = datashade(hv.Curve(avg_zeros), cmap=['green'])\n",
    "\n",
    "cdiff = datashade(hv.Curve(abs(avg_ones - avg_zeros)), cmap=['red'])\n",
    "\n",
    "(cavg_all * cavg_ones * cavg_zeros).opts(width=2000, height=900)\n",
    "#(cdiff * cavg_all).opts(width=2000, height=600)\n",
    "#(cavg_ones*cavg_zeros).opts(width=2000, height=600)"
   ]
  },
  {
   "cell_type": "code",
   "execution_count": null,
   "id": "2368b096-2402-4e5c-93ea-33d39f00a202",
   "metadata": {},
   "outputs": [],
   "source": [
    "(cdiff).opts(width=2000, height=600)"
   ]
  },
  {
   "cell_type": "code",
   "execution_count": null,
   "id": "77a55002-41c9-4cd2-8aef-5dc09122e971",
   "metadata": {},
   "outputs": [],
   "source": [
    "np.average(avg_ones), np.average(avg_zeros)"
   ]
  },
  {
   "cell_type": "code",
   "execution_count": null,
   "id": "e572a044-d134-43cf-a286-569415bc4a57",
   "metadata": {},
   "outputs": [],
   "source": [
    "np.sum(abs(avg_ones)) / np.sum(abs(avg_zeros))"
   ]
  },
  {
   "cell_type": "markdown",
   "id": "bcd4acee-2a62-4700-85b6-5a567abb5743",
   "metadata": {},
   "source": [
    "### attack using just the sum of the power trace segment:"
   ]
  },
  {
   "cell_type": "code",
   "execution_count": null,
   "id": "f5fb38d6-2ccd-4125-8d11-4e61b9df537b",
   "metadata": {},
   "outputs": [],
   "source": [
    "scores = []\n",
    "#for b in bit_starts:\n",
    "for b in raw_starts:\n",
    "    scores.append(np.sum(abs(filtered_wave[b:b+duration])))"
   ]
  },
  {
   "cell_type": "code",
   "execution_count": null,
   "id": "c3a7bc88-b386-471c-9a2f-6b922c6f4a79",
   "metadata": {},
   "outputs": [],
   "source": [
    "cscores = hv.Curve(scores[:12])\n",
    "(cscores).opts(width=2000, height=600)"
   ]
  },
  {
   "cell_type": "markdown",
   "id": "d022aa85-40ef-455b-bb47-fcf54b59810d",
   "metadata": {},
   "source": [
    "### attack using markers:"
   ]
  },
  {
   "cell_type": "code",
   "execution_count": null,
   "id": "850fda36-88d2-4127-8ef2-41e8ecbee84a",
   "metadata": {},
   "outputs": [],
   "source": [
    "#markers = np.where((avg_ones - avg_zeros) > 0.1)[0]\n",
    "markers = np.where(abs(avg_ones - avg_zeros) > 0.05)[0]"
   ]
  },
  {
   "cell_type": "code",
   "execution_count": null,
   "id": "a53ec35c-46f5-4cb0-ad52-b113c048a896",
   "metadata": {},
   "outputs": [],
   "source": [
    "markers"
   ]
  },
  {
   "cell_type": "code",
   "execution_count": null,
   "id": "2082a3f3-f276-43f0-acfc-535019dcdfcd",
   "metadata": {},
   "outputs": [],
   "source": [
    "scores = []\n",
    "for b in starts:\n",
    "    score = 0\n",
    "    for marker in markers:\n",
    "        score += abs(filtered_wave[b + marker])\n",
    "        #score += filtered_wave[b + marker]\n",
    "    scores.append(score)\n",
    "    "
   ]
  },
  {
   "cell_type": "code",
   "execution_count": null,
   "id": "865f04ea-9197-4f1a-b80c-1289e9448bbf",
   "metadata": {},
   "outputs": [],
   "source": [
    "cscores = hv.Curve(scores[:12])\n",
    "(cscores).opts(width=2000, height=600)"
   ]
  }
 ],
 "metadata": {
  "kernelspec": {
   "display_name": "Python (venv37)",
   "language": "python",
   "name": "venv37"
  },
  "language_info": {
   "codemirror_mode": {
    "name": "ipython",
    "version": 3
   },
   "file_extension": ".py",
   "mimetype": "text/x-python",
   "name": "python",
   "nbconvert_exporter": "python",
   "pygments_lexer": "ipython3",
   "version": "3.7.4"
  }
 },
 "nbformat": 4,
 "nbformat_minor": 5
}
