{
 "cells": [
  {
   "cell_type": "markdown",
   "id": "356b7cfa-179d-4c65-9c33-e699016a546e",
   "metadata": {},
   "source": [
    "## Experiment with finding the bit start times, using traces previously collected by otbn_traces.ipynb:"
   ]
  },
  {
   "cell_type": "code",
   "execution_count": null,
   "id": "9ae4d21c-2225-4aa3-85bc-ba3868d26e24",
   "metadata": {},
   "outputs": [],
   "source": [
    "import numpy as np\n",
    "#waves = np.load('waves_p256_streamed.npy')\n",
    "waves = np.load('waves_p256_streamed_half1half0.npy')\n",
    "#waves = np.load('waves_p256_streamed_patterned.npy')\n",
    "#waves = np.load('waves_p256_streamed_32bitblocks.npy')\n",
    "#waves = [np.load('waves_p256_100M.npy')]\n",
    "#wave = [np.load('waves_p256_100M_2s.npy')]"
   ]
  },
  {
   "cell_type": "code",
   "execution_count": null,
   "id": "e8835b40-ef11-4571-8406-0c8f3c07cd71",
   "metadata": {},
   "outputs": [],
   "source": [
    "#samples = 100000\n",
    "samples = len(waves[0])\n",
    "base = 0"
   ]
  },
  {
   "cell_type": "code",
   "execution_count": null,
   "id": "363641b3-9c02-48fa-88a0-a834872ff5fe",
   "metadata": {},
   "outputs": [],
   "source": [
    "import holoviews as hv\n",
    "from holoviews.operation import decimate\n",
    "from holoviews.operation.datashader import datashade\n",
    "hv.extension('bokeh')\n",
    "#datashade(hv.Curve(waves[0][base:base+samples]-waves[9][base:base+samples])).opts(width=2000, height=900)\n",
    "datashade(hv.Curve(waves[0][base:base+samples])).opts(width=2000, height=900)"
   ]
  },
  {
   "cell_type": "markdown",
   "id": "04cd0ec6-b60f-488d-9bbf-73146acbb539",
   "metadata": {},
   "source": [
    "### HPF helps clean up the trace, especially at higher samples rates:"
   ]
  },
  {
   "cell_type": "code",
   "execution_count": null,
   "id": "0526fbd1-7d5b-41ad-9772-5a43a86f1fd2",
   "metadata": {},
   "outputs": [],
   "source": [
    "import numpy as np\n",
    "import pandas as pd\n",
    "from scipy import signal\n",
    "\n",
    "def butter_highpass(cutoff, fs, order=5):\n",
    "    nyq = 0.5 * fs\n",
    "    normal_cutoff = cutoff / nyq \n",
    "    b, a = signal.butter(order, normal_cutoff, btype='high', analog=False)\n",
    "    return b, a\n",
    "\n",
    "def butter_highpass_filter(data, cutoff, fs, order=9):\n",
    "    b, a = butter_highpass(cutoff, fs, order=order)\n",
    "    y = signal.filtfilt(b, a, data)\n",
    "    return y\n",
    "\n",
    "filtered_wave = butter_highpass_filter(waves[0], 1e6, 100e6) # for streamed 25M capture\n",
    "#filtered_wave = butter_highpass_filter(waves[0], 6e6, 100e6) # for NON-streamed 100M capture"
   ]
  },
  {
   "cell_type": "code",
   "execution_count": null,
   "id": "b211b3f1-22af-4f1d-a108-404b4605a646",
   "metadata": {
    "tags": []
   },
   "outputs": [],
   "source": [
    "#samples = len(waves[0])\n",
    "samples = 220000\n",
    "base = 0\n",
    "\n",
    "import holoviews as hv\n",
    "from holoviews.operation import decimate\n",
    "from holoviews.operation.datashader import datashade, shade, dynspread\n",
    "hv.extension('bokeh')\n",
    "\n",
    "w0 = datashade(hv.Curve(waves[0][base:base+samples]), cmap=['green'])\n",
    "wf = datashade(hv.Curve(filtered_wave[base:base+samples]), cmap=['black'])\n",
    "\n",
    "#(w0 * wf).opts(width=2000, height=900)\n",
    "(wf).opts(width=2000, height=600)"
   ]
  },
  {
   "cell_type": "code",
   "execution_count": null,
   "id": "1327a0af-d62b-414c-a07d-64af8c42ee94",
   "metadata": {
    "tags": []
   },
   "outputs": [],
   "source": [
    "def contiguous_regions(condition):\n",
    "    \"\"\"Finds contiguous True regions of the boolean array \"condition\". Returns\n",
    "    a 2D array where the first column is the start index of the region and the\n",
    "    second column is the end index.\"\"\"\n",
    "\n",
    "    # Find the indicies of changes in \"condition\"\n",
    "    d = np.diff(condition.astype(int))\n",
    "    idx, = d.nonzero() \n",
    "\n",
    "    # We need to start things after the change in \"condition\". Therefore, \n",
    "    # we'll shift the index by 1 to the right.\n",
    "    idx += 1\n",
    "\n",
    "    if condition[0]:\n",
    "        # If the start of condition is True prepend a 0\n",
    "        idx = np.r_[0, idx]\n",
    "\n",
    "    if condition[-1]:\n",
    "        # If the end of condition is True, append the length of the array\n",
    "        idx = np.r_[idx, condition.size] # Edit\n",
    "\n",
    "    # Reshape the result into two columns\n",
    "    idx.shape = (-1,2)\n",
    "    return idx\n"
   ]
  },
  {
   "cell_type": "markdown",
   "id": "7834275a-77ae-49f1-8423-d8655bca627b",
   "metadata": {},
   "source": [
    "# Method 1:\n",
    "Use idle periods as a marker.\n",
    "Works really well for 25M, less so for 100M."
   ]
  },
  {
   "cell_type": "code",
   "execution_count": null,
   "id": "857418be-4fc6-4e6a-a0e4-6b20bfbc1c18",
   "metadata": {
    "tags": []
   },
   "outputs": [],
   "source": [
    "#for 25M streamed:\n",
    "THRESHOLD = 0.1\n",
    "MIN_RUN_LENGTH = 500\n",
    "\n",
    "# for 100M NOT streamed:\n",
    "#THRESHOLD = 0.015\n",
    "#MIN_RUN_LENGTH = 60\n",
    "\n",
    "STOP=len(filtered_wave)\n",
    "#STOP=360000\n",
    "condition = np.abs(filtered_wave[:STOP]) < THRESHOLD\n",
    "\n",
    "# Print the start and stop indices of each region where the absolute \n",
    "# values of x are below 1, and the min and max of each of these regions\n",
    "results = contiguous_regions(condition)\n",
    "#print(len(results))\n",
    "goods = results[np.where(results[:,1] - results[:,0] > MIN_RUN_LENGTH)]\n",
    "print(len(goods))"
   ]
  },
  {
   "cell_type": "code",
   "execution_count": null,
   "id": "85d0c445-6ee1-4dad-a05b-eaaf7aea2b30",
   "metadata": {
    "tags": []
   },
   "outputs": [],
   "source": [
    "# for debug:\n",
    "last_stop = 0\n",
    "for g in goods:\n",
    "    start = g[0]\n",
    "    stop = g[1]\n",
    "    l = stop-start\n",
    "    delta = start - last_stop\n",
    "    if 13000 < delta < 18000:\n",
    "        stat = 'ok'\n",
    "    else:\n",
    "        stat = 'OOOOPS?!?'\n",
    "    print('%8d %8d %8d %8d %s' % (l, delta, start, stop, stat))\n",
    "    last_stop = stop"
   ]
  },
  {
   "cell_type": "markdown",
   "id": "fbd87ec5-c1f5-4313-b74c-aa602f61799d",
   "metadata": {},
   "source": [
    "### Use these runs to guess at bit start times (25M edition):"
   ]
  },
  {
   "cell_type": "code",
   "execution_count": null,
   "id": "6aa24cab-0887-4e95-8496-dd22c827c466",
   "metadata": {},
   "outputs": [],
   "source": [
    "bit_starts = []\n",
    "idle_count = 0\n",
    "max_active = 10\n",
    "for i, idle_period in enumerate(goods[1:]):\n",
    "    #print('Processing start=%10d... ' % goods[i][0], end='')\n",
    "    if goods[i][0] - goods[i-1][1] <= max_active:\n",
    "        idle_count += 1\n",
    "        #print('idle_count=%d for start=%d, stop=%d' % (idle_count, goods[i][0], goods[i][1]))\n",
    "        if idle_count == 4:\n",
    "            #print('Found bit starting at %d' % goods[i+1][0])\n",
    "            bit_starts.append(goods[i][1]+1)\n",
    "            idle_count = 0\n",
    "    else:\n",
    "        #print('resetting idle_count for start=%d, stop=%d because delta=%d (%d, %d)' % (goods[i][0], goods[i][1], goods[i][0] - goods[i-1][1], goods[i][0], goods[i-1][1]))\n",
    "        idle_count = 1"
   ]
  },
  {
   "cell_type": "markdown",
   "id": "a9646758-f721-4cff-8fca-0f6ff6eac2e2",
   "metadata": {},
   "source": [
    "### Use these runs to guess at bit start times (100M edition):"
   ]
  },
  {
   "cell_type": "code",
   "execution_count": null,
   "id": "ee4e31b2-4fd4-4894-8654-9998fb46313f",
   "metadata": {},
   "outputs": [],
   "source": [
    "raw_starts = []\n",
    "for i in range(3, len(goods), 2):\n",
    "    raw_starts.append(goods[i][1])"
   ]
  },
  {
   "cell_type": "markdown",
   "id": "6bc19cba-5131-4ae6-852a-0a0979332eca",
   "metadata": {},
   "source": [
    "### For 100M only: try to make the bit start times more accurate by using the single isolated large peak that's about 650 samples in:\n",
    "hmm, not sure if this actually helps..."
   ]
  },
  {
   "cell_type": "code",
   "execution_count": null,
   "id": "8317277f-1800-4c78-aa4e-13ee7d819c2a",
   "metadata": {},
   "outputs": [],
   "source": [
    "wstart = 500\n",
    "wend = 700\n",
    "\n",
    "wstart = 1550\n",
    "wend = 1620\n",
    "\n",
    "base = np.argmax(filtered_wave[raw_starts[0]+wstart:raw_starts[0]+wend])\n",
    "bit_starts = [raw_starts[0]]\n",
    "for s in raw_starts[1:]:\n",
    "    loc = np.argmax(filtered_wave[s+wstart:s+wend])\n",
    "    offset = base-loc\n",
    "    print(offset)\n",
    "    bit_starts.append(s + offset)"
   ]
  },
  {
   "cell_type": "markdown",
   "id": "23e93c03-079e-49c2-a116-5640ab8e600a",
   "metadata": {},
   "source": [
    "# Sanity check the results:"
   ]
  },
  {
   "cell_type": "code",
   "execution_count": null,
   "id": "288e014d-22d5-4cf5-9ea7-da5b54cf7322",
   "metadata": {
    "tags": []
   },
   "outputs": [],
   "source": [
    "if len(bit_starts) != 256:\n",
    "    print('Oops, found %d bits :-/' % len(bit_starts))\n",
    "    \n",
    "duration = bit_starts[1] - bit_starts[0]\n",
    "print(\"First bit duration: %d cycles\" % duration)\n",
    "for b in range(2, len(bit_starts)):\n",
    "    d = bit_starts[b] - bit_starts[b-1] \n",
    "    if d != duration:\n",
    "        print(\"Unexpected duration for bit %d: %d cycles\" % (b-1, d))\n"
   ]
  },
  {
   "cell_type": "markdown",
   "id": "a007d405-9e34-47be-87e7-168ee86defbf",
   "metadata": {},
   "source": [
    "# Superimpose all the bits!\n",
    "Plot overlayed bit traces to visualize alignment and guess at success of time extraction:"
   ]
  },
  {
   "cell_type": "code",
   "execution_count": null,
   "id": "b2a5103f-f00d-4d41-9a83-f5efe4ce72ec",
   "metadata": {},
   "outputs": [],
   "source": [
    "bits = []\n",
    "bit_size = bit_starts[1] - bit_starts[0]\n",
    "for start in bit_starts:\n",
    "    bits.append(filtered_wave[start:start+bit_size])"
   ]
  },
  {
   "cell_type": "code",
   "execution_count": null,
   "id": "5270a1ad-d2e2-4361-8c3c-e2f079ec737d",
   "metadata": {},
   "outputs": [],
   "source": [
    "len(bits)"
   ]
  },
  {
   "cell_type": "code",
   "execution_count": null,
   "id": "96f154f7-9289-46bc-ab10-2be2f0be7c61",
   "metadata": {
    "tags": []
   },
   "outputs": [],
   "source": [
    "# Can't plot more than 22 bits due to palette:\n",
    "#numbits = len(bits)\n",
    "numbits = 22\n",
    "\n",
    "import holoviews as hv\n",
    "from holoviews.operation import decimate\n",
    "from holoviews.operation.datashader import datashade, shade, dynspread\n",
    "from holoviews import opts\n",
    "import datashader as ds\n",
    "\n",
    "hv.extension('bokeh')\n",
    "\n",
    "lines = {i: hv.Curve(np.asarray(bits[i])) for i in range(len(bits[:numbits]))}\n",
    "linespread = dynspread(datashade(hv.NdOverlay(lines, kdims='k'), aggregator=ds.by('k', ds.count())))\n",
    "linespread.opts(opts.RGB(width=2400, height=1200))\n"
   ]
  },
  {
   "cell_type": "code",
   "execution_count": null,
   "id": "5a95958d-8957-41ef-ae2b-76899ce99abb",
   "metadata": {},
   "outputs": [],
   "source": [
    "# Can plot all the bits, but it's slow:\n",
    "#numbits = len(bits)\n",
    "numbits = 20\n",
    "\n",
    "import holoviews as hv\n",
    "from holoviews.operation import decimate\n",
    "from holoviews.operation.datashader import datashade, shade, dynspread\n",
    "hv.extension('bokeh')\n",
    "\n",
    "xrange = range(duration)\n",
    "\n",
    "from operator import mul\n",
    "from functools import reduce\n",
    "\n",
    "curves = [hv.Curve(zip(xrange, filtered_wave[bit_starts[i]:bit_starts[i]+duration])) for i in range(numbits)]\n",
    "\n",
    "reduce(mul, curves).opts(width=2000, height=900)"
   ]
  },
  {
   "cell_type": "markdown",
   "id": "7358cce1-5cc6-49bd-9912-e67e1de23db2",
   "metadata": {},
   "source": [
    "# Average 'one' and 'zero':\n",
    "Let's see if simple difference-of-means reveals anything."
   ]
  },
  {
   "cell_type": "code",
   "execution_count": null,
   "id": "b43bcecb-d5a9-48c7-9af3-c52d377b4a88",
   "metadata": {},
   "outputs": [],
   "source": [
    "duration"
   ]
  },
  {
   "cell_type": "code",
   "execution_count": null,
   "id": "d9df18bc-66c2-4de3-8100-064480486986",
   "metadata": {},
   "outputs": [],
   "source": [
    "avg_trace = np.zeros(duration)\n",
    "avg_ones = np.zeros(duration)\n",
    "avg_zeros = np.zeros(duration)\n",
    "\n",
    "for i, start in enumerate(bit_starts):\n",
    "    avg_trace += waves[0][start:start+duration]\n",
    "    if i < 128:\n",
    "        avg_ones += waves[0][start:start+duration]\n",
    "    else:\n",
    "        avg_zeros += waves[0][start:start+duration]\n",
    "\n",
    "avg_trace /= len(bit_starts)\n",
    "avg_ones /= len(bit_starts)/2\n",
    "avg_zeros /= len(bit_starts)/2\n"
   ]
  },
  {
   "cell_type": "code",
   "execution_count": null,
   "id": "492c5763-f5cf-477a-a42a-497095e729a1",
   "metadata": {},
   "outputs": [],
   "source": [
    "import holoviews as hv\n",
    "from holoviews.operation import decimate\n",
    "from holoviews.operation.datashader import datashade, shade, dynspread\n",
    "hv.extension('bokeh')\n",
    "\n",
    "xrange = range(duration)\n",
    "\n",
    "cavg_all = datashade(hv.Curve(avg_trace), cmap=['black'])\n",
    "cavg_ones = datashade(hv.Curve(avg_ones), cmap=['blue'])\n",
    "cavg_zeros = datashade(hv.Curve(avg_zeros), cmap=['green'])\n",
    "\n",
    "cdiff = datashade(hv.Curve((avg_ones - avg_zeros)*10), cmap=['red'])\n",
    "\n",
    "#(cavg_all * cavg_ones * cavg_zeros).opts(width=2000, height=900)\n",
    "(cdiff).opts(width=2000, height=600)"
   ]
  },
  {
   "cell_type": "code",
   "execution_count": null,
   "id": "af884e53-8dcf-4575-bf42-011b30a9073a",
   "metadata": {},
   "outputs": [],
   "source": [
    "markers = np.where((avg_ones - avg_zeros) > 0.005)[0]"
   ]
  },
  {
   "cell_type": "code",
   "execution_count": null,
   "id": "5e0b3cf4-9e8f-452b-8f9b-1ca086473ebc",
   "metadata": {},
   "outputs": [],
   "source": [
    "markers"
   ]
  },
  {
   "cell_type": "code",
   "execution_count": null,
   "id": "3c9a83bd-7ccb-4cf7-a8b6-eca12e4e0ae9",
   "metadata": {},
   "outputs": [],
   "source": [
    "# save markers for attacking other traces:\n",
    "np.save('markers_25M.npy', markers)"
   ]
  },
  {
   "cell_type": "code",
   "execution_count": null,
   "id": "f5fb38d6-2ccd-4125-8d11-4e61b9df537b",
   "metadata": {},
   "outputs": [],
   "source": [
    "scores = []\n",
    "for b in bit_starts:\n",
    "    score = 0\n",
    "    for marker in markers:\n",
    "        score += filtered_wave[b + marker]\n",
    "    scores.append(score)"
   ]
  },
  {
   "cell_type": "code",
   "execution_count": null,
   "id": "c3a7bc88-b386-471c-9a2f-6b922c6f4a79",
   "metadata": {},
   "outputs": [],
   "source": [
    "cscores = hv.Curve(scores)\n",
    "(cscores).opts(width=2000, height=600)"
   ]
  },
  {
   "cell_type": "code",
   "execution_count": null,
   "id": "7f2c0d66-6c7c-45a9-9d5d-f39b905cf34e",
   "metadata": {},
   "outputs": [],
   "source": []
  }
 ],
 "metadata": {
  "kernelspec": {
   "display_name": "Python (venv37)",
   "language": "python",
   "name": "venv37"
  },
  "language_info": {
   "codemirror_mode": {
    "name": "ipython",
    "version": 3
   },
   "file_extension": ".py",
   "mimetype": "text/x-python",
   "name": "python",
   "nbconvert_exporter": "python",
   "pygments_lexer": "ipython3",
   "version": "3.7.4"
  }
 },
 "nbformat": 4,
 "nbformat_minor": 5
}
