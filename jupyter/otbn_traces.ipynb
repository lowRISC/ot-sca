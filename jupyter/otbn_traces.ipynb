{
 "cells": [
  {
   "cell_type": "code",
   "execution_count": null,
   "id": "18164f40-40ae-4db1-aa5e-e632bbacb660",
   "metadata": {},
   "outputs": [],
   "source": [
    "import chipwhisperer as cw\n",
    "scope = cw.scope(prog_speed=5e6)"
   ]
  },
  {
   "cell_type": "code",
   "execution_count": null,
   "id": "fa5a2134-6b96-4860-937f-a162e79098e5",
   "metadata": {},
   "outputs": [],
   "source": [
    "TARGET_FREQ = 25e6\n",
    "#TARGET_FREQ = 100e6\n",
    "STREAM = True # TARGET_FREQ must be max 25 MHz to use streaming\n",
    "if STREAM:\n",
    "    assert TARGET_FREQ <= 25e6"
   ]
  },
  {
   "cell_type": "code",
   "execution_count": null,
   "id": "fa6a5c53-30c2-4f20-b18f-7c56eb3105e0",
   "metadata": {},
   "outputs": [],
   "source": [
    "from chipwhisperer.capture.targets.CW310 import CW310\n",
    "target = cw.target(scope, CW310, bsfile=None)\n",
    "\n",
    "target.pll.pll_enable_set(True)\n",
    "target.pll.pll_outenable_set(False, 0)\n",
    "target.pll.pll_outenable_set(True, 1)\n",
    "target.pll.pll_outenable_set(False, 2)\n",
    "target.pll.pll_outfreq_set(TARGET_FREQ, 1)\n",
    "\n",
    "sstarget = cw.target(scope)\n",
    "sstarget.baud = int(115200 * TARGET_FREQ/100e6)"
   ]
  },
  {
   "cell_type": "code",
   "execution_count": null,
   "id": "3ff0453c-d600-4191-b1cb-0e207ffade2b",
   "metadata": {},
   "outputs": [],
   "source": [
    "force_program = False\n",
    "if not(target.fpga.isFPGAProgrammed() or force_program):\n",
    "    bsfile = '../../../../Downloads/lowrisc_systems_chip_earlgrey_cw310_0.1.bit'\n",
    "    status = target.fpga.FPGAProgram(open(bsfile, \"rb\"), exceptOnDoneFailure=False, prog_speed=10e6)\n",
    "    assert status, \"FPGA Done pin failed to go high\""
   ]
  },
  {
   "cell_type": "code",
   "execution_count": null,
   "id": "2ce976c3-4bec-4a23-ab89-398166d0a2e1",
   "metadata": {},
   "outputs": [],
   "source": [
    "import sys\n",
    "sys.path.append(\"../../..\")\n",
    "from opentitan.otbn_ecc_hacky.util.fpga.cw_spiflash import *"
   ]
  },
  {
   "cell_type": "code",
   "execution_count": null,
   "id": "662a6c37-1790-4577-b53d-a9c2d6a67883",
   "metadata": {},
   "outputs": [],
   "source": [
    "firmware = '../../../../Downloads/otbn_ecdsa_p256_test_fpga_cw310.bin'\n",
    "prog = SPIProgrammer(firmware, \"CW310\")\n",
    "#prog.run(target) # this is run during the capture"
   ]
  },
  {
   "cell_type": "code",
   "execution_count": null,
   "id": "64edb654-5e26-47c9-96d8-7098390dd5a9",
   "metadata": {},
   "outputs": [],
   "source": [
    "# keep default setup:\n",
    "scope.io.tio1 = 'serial_tx'\n",
    "scope.io.tio2 = 'serial_rx'"
   ]
  },
  {
   "cell_type": "code",
   "execution_count": null,
   "id": "31bafe71-6747-427a-b06c-597265944a42",
   "metadata": {},
   "outputs": [],
   "source": [
    "if scope._is_husky:\n",
    "    scope.clock.clkgen_src = 'extclk'\n",
    "    scope.clock.clkgen_freq = TARGET_FREQ\n",
    "    scope.clock.adc_mul = 1\n",
    "    # we'll be playing with the clock so we don't want to get errors when Husky notices the clock changing:\n",
    "    scope.clock.extclk_monitor_enabled = False\n",
    "    scope.gain.db = 13\n",
    "else:\n",
    "    scope.clock.adc_src = \"extclk_x1\"\n",
    "    scope.gain.db = 13 # TODO- this may not be the best value"
   ]
  },
  {
   "cell_type": "code",
   "execution_count": null,
   "id": "b147a85f-57ce-47af-a8cb-4e7e6f660e23",
   "metadata": {},
   "outputs": [],
   "source": [
    "# these are specific to Husky!\n",
    "if STREAM:\n",
    "    scope.adc.stream_mode = True\n",
    "    scope.adc.bits_per_sample = 8\n",
    "    scope.adc.samples = 8000000\n",
    "    scope.adc.decimate = 1\n",
    "    scope.adc._timeout = 5\n",
    "    scope.gain.db = 22\n",
    "else:\n",
    "    scope.adc.stream_mode = False\n",
    "    scope.adc.bits_per_sample = 12\n",
    "    scope.adc.samples = 131070\n",
    "    scope.adc.decimate = 10\n",
    "    scope.adc._timeout = 5\n",
    "    scope.gain.db = 13"
   ]
  },
  {
   "cell_type": "code",
   "execution_count": null,
   "id": "f7bafde9-a203-40a0-ae9b-74938c702db0",
   "metadata": {},
   "outputs": [],
   "source": [
    "def num_to_bytearray(num, bit_length=256):\n",
    "    return bytearray([num >> (8*i) & 0xFF for i in range((bit_length - 1) // 8,-1,-1)][::-1])"
   ]
  },
  {
   "cell_type": "code",
   "execution_count": null,
   "id": "fe8a04aa-93e9-442c-ba6f-397b93971d5b",
   "metadata": {},
   "outputs": [],
   "source": [
    "# capture loop:\n",
    "N = 4\n",
    "reset_firmware = True\n",
    "all_cycles = []\n",
    "waves = []\n",
    "from tqdm.notebook import trange\n",
    "\n",
    "for i in trange(N):\n",
    "    if reset_firmware:\n",
    "        if TARGET_FREQ != 100e6:\n",
    "            target.pll.pll_outfreq_set(100e6, 1)\n",
    "        prog.run(target)\n",
    "        if TARGET_FREQ != 100e6:\n",
    "            target.pll.pll_outfreq_set(TARGET_FREQ, 1)\n",
    "        time.sleep(0.3)\n",
    "        sstarget.simpleserial_write('v', bytearray())\n",
    "        \n",
    "    scope.arm()\n",
    "    if scope._is_husky:\n",
    "        start_cycles = 0\n",
    "    else:\n",
    "        start_cycles = scope.adc.trig_count\n",
    "\n",
    "    if i < 2:\n",
    "        k = num_to_bytearray(0x0f0f0fffffffffffffffffffffffffff00000000000000000000000000000000)\n",
    "    else:\n",
    "        k = num_to_bytearray(0xffffffffffffffffffffffffffffffff00000000000000000000000000000000)\n",
    "\n",
    "    sstarget.simpleserial_write('p', k)\n",
    "    ret = scope.capture()\n",
    "    if ret:\n",
    "        print('Warning: timeout during capture')\n",
    "\n",
    "    cycles = scope.adc.trig_count - start_cycles\n",
    "    all_cycles.append(cycles)\n",
    "    if cycles != 7534831:\n",
    "        print(\"Observed odd number of cycles: %d\" % cycles)\n",
    "    waves.append(scope.get_last_trace())\n"
   ]
  },
  {
   "cell_type": "code",
   "execution_count": null,
   "id": "265de611-1ab4-4cf8-b40a-dca8ea7f4558",
   "metadata": {},
   "outputs": [],
   "source": [
    "all_cycles"
   ]
  },
  {
   "cell_type": "code",
   "execution_count": null,
   "id": "270ed5ee-0a38-4058-aee2-51be871681a7",
   "metadata": {},
   "outputs": [],
   "source": [
    "scope.adc.errors"
   ]
  },
  {
   "cell_type": "code",
   "execution_count": null,
   "id": "bb387606-4d26-4cc7-b39c-0809e2942545",
   "metadata": {},
   "outputs": [],
   "source": [
    "from bokeh.plotting import figure, show\n",
    "from bokeh.resources import INLINE\n",
    "from bokeh.io import output_notebook\n",
    "\n",
    "output_notebook(INLINE)"
   ]
  },
  {
   "cell_type": "code",
   "execution_count": null,
   "id": "6cd3b4ae-b7d1-412d-953b-2f68fbccdbad",
   "metadata": {},
   "outputs": [],
   "source": [
    "p = figure(plot_width=2000)\n",
    "\n",
    "samples = 300000\n",
    "base = 0\n",
    "#samples = len(waves[0])\n",
    "xrange = range(samples)\n",
    "#p.line(xrange, waves[3][base:base+samples], line_color=\"red\")\n",
    "p.line(xrange, waves[0][base:base+samples], line_color=\"green\")\n",
    "#p.line(xrange, waves[2][base:base+samples], line_color=\"blue\")\n",
    "#p.line(xrange, waves[3][base:base+samples], line_color=\"orange\")"
   ]
  },
  {
   "cell_type": "code",
   "execution_count": null,
   "id": "d5d72620-7946-4054-b1f6-f7c6e270281c",
   "metadata": {},
   "outputs": [],
   "source": [
    "show(p)"
   ]
  },
  {
   "cell_type": "code",
   "execution_count": null,
   "id": "50229220-2dfc-4d22-8462-fac0ca31f5ac",
   "metadata": {},
   "outputs": [],
   "source": [
    "d = figure(plot_width=2000)\n",
    "\n",
    "samples = 300000\n",
    "base = 0\n",
    "#samples = len(waves[0])\n",
    "xrange = range(samples)\n",
    "d.line(xrange, waves[0][base:base+samples] - waves[3][base:base+samples], line_color=\"red\")\n",
    "#d.line(xrange, waves[3][base:base+samples] - waves[2][base:base+samples], line_color=\"blue\")"
   ]
  },
  {
   "cell_type": "code",
   "execution_count": null,
   "id": "90addcef-86e4-4baf-9b33-71d9a378d0ff",
   "metadata": {},
   "outputs": [],
   "source": [
    "show(d)"
   ]
  },
  {
   "cell_type": "code",
   "execution_count": null,
   "id": "363641b3-9c02-48fa-88a0-a834872ff5fe",
   "metadata": {},
   "outputs": [],
   "source": []
  }
 ],
 "metadata": {
  "kernelspec": {
   "display_name": "Python (venv37)",
   "language": "python",
   "name": "venv37"
  },
  "language_info": {
   "codemirror_mode": {
    "name": "ipython",
    "version": 3
   },
   "file_extension": ".py",
   "mimetype": "text/x-python",
   "name": "python",
   "nbconvert_exporter": "python",
   "pygments_lexer": "ipython3",
   "version": "3.7.4"
  }
 },
 "nbformat": 4,
 "nbformat_minor": 5
}
