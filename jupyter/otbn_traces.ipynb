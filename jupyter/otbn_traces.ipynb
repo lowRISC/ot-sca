{
 "cells": [
  {
   "cell_type": "code",
   "execution_count": null,
   "id": "18164f40-40ae-4db1-aa5e-e632bbacb660",
   "metadata": {},
   "outputs": [],
   "source": [
    "import chipwhisperer as cw\n",
    "scope = cw.scope(prog_speed=5e6)"
   ]
  },
  {
   "cell_type": "code",
   "execution_count": null,
   "id": "fa5a2134-6b96-4860-937f-a162e79098e5",
   "metadata": {},
   "outputs": [],
   "source": [
    "TARGET_FREQ = 25e6\n",
    "#TARGET_FREQ = 60e6\n",
    "#TARGET_FREQ = 100e6\n",
    "#TARGET_FREQ = 120e6\n",
    "STREAM = True # TARGET_FREQ must be max 25 MHz to use streaming\n",
    "if STREAM:\n",
    "    assert TARGET_FREQ <= 25e6"
   ]
  },
  {
   "cell_type": "code",
   "execution_count": null,
   "id": "d08767ef-3ba3-4979-8d60-e847820ce0da",
   "metadata": {
    "tags": []
   },
   "outputs": [],
   "source": [
    "from chipwhisperer.capture.targets.CW310 import CW310\n",
    "target = cw.target(scope, CW310, bsfile=None)"
   ]
  },
  {
   "cell_type": "code",
   "execution_count": null,
   "id": "03da4749-cfae-44df-a572-0c33b028ebae",
   "metadata": {},
   "outputs": [],
   "source": [
    "target.pll.pll_enable_set(True)\n",
    "target.pll.pll_outenable_set(False, 0)\n",
    "target.pll.pll_outenable_set(True, 1)\n",
    "target.pll.pll_outenable_set(False, 2)\n",
    "target.pll.pll_outfreq_set(TARGET_FREQ, 1)"
   ]
  },
  {
   "cell_type": "code",
   "execution_count": null,
   "id": "8762fa9c-01f9-4b6c-bd11-b2f6e90a2dfa",
   "metadata": {},
   "outputs": [],
   "source": [
    "sstarget = cw.target(scope)\n",
    "sstarget.baud = int(115200 * TARGET_FREQ/100e6)"
   ]
  },
  {
   "cell_type": "code",
   "execution_count": null,
   "id": "3ff0453c-d600-4191-b1cb-0e207ffade2b",
   "metadata": {},
   "outputs": [],
   "source": [
    "skip_program = True\n",
    "if not target.fpga.isFPGAProgrammed() or not skip_program:\n",
    "    bsfile = '../../../../Downloads/lowrisc_systems_chip_earlgrey_cw310_0.1.bit'\n",
    "    status = target.fpga.FPGAProgram(open(bsfile, \"rb\"), exceptOnDoneFailure=False, prog_speed=10e6)\n",
    "    assert status, \"FPGA Done pin failed to go high\""
   ]
  },
  {
   "cell_type": "code",
   "execution_count": null,
   "id": "2ce976c3-4bec-4a23-ab89-398166d0a2e1",
   "metadata": {},
   "outputs": [],
   "source": [
    "import sys\n",
    "sys.path.append(\"../../..\")\n",
    "from opentitan.otbn_ecc_hacky.util.fpga.cw_spiflash import *"
   ]
  },
  {
   "cell_type": "code",
   "execution_count": null,
   "id": "662a6c37-1790-4577-b53d-a9c2d6a67883",
   "metadata": {},
   "outputs": [],
   "source": [
    "#firmware = '../../../../Downloads/otbn_ecdsa_p256_test_fpga_cw310.bin' # original Oct/29 work done on this \n",
    "firmware = '../../opentitan_sca_ecc/build-out/sw/device/sca/ecc_serial_fpga_cw310.bin' # latest build\n",
    "#firmware = '../../opentitan_sca_ecc/build-out/sw/device/sca/ecc384_serial_fpga_cw310.bin'\n",
    "prog = SPIProgrammer(firmware, \"CW310\")\n",
    "#prog.run(target) # this is run during the capture"
   ]
  },
  {
   "cell_type": "code",
   "execution_count": null,
   "id": "64edb654-5e26-47c9-96d8-7098390dd5a9",
   "metadata": {},
   "outputs": [],
   "source": [
    "# keep default setup:\n",
    "scope.io.tio1 = 'serial_tx'\n",
    "scope.io.tio2 = 'serial_rx'"
   ]
  },
  {
   "cell_type": "code",
   "execution_count": null,
   "id": "31bafe71-6747-427a-b06c-597265944a42",
   "metadata": {},
   "outputs": [],
   "source": [
    "if scope._is_husky:\n",
    "    scope.clock.clkgen_src = 'extclk'\n",
    "    scope.clock.clkgen_freq = TARGET_FREQ\n",
    "    scope.clock.adc_mul = 1\n",
    "    # we'll be playing with the clock so we don't want to get errors when Husky notices the clock changing:\n",
    "    scope.clock.extclk_monitor_enabled = False\n",
    "    scope.gain.db = 13\n",
    "else:\n",
    "    scope.clock.adc_src = \"extclk_x1\"\n",
    "    scope.gain.db = 13 # TODO- this may not be the best value"
   ]
  },
  {
   "cell_type": "code",
   "execution_count": null,
   "id": "88334486-6c01-48db-8533-77b13834f385",
   "metadata": {},
   "outputs": [],
   "source": [
    "scope.clock"
   ]
  },
  {
   "cell_type": "code",
   "execution_count": null,
   "id": "b147a85f-57ce-47af-a8cb-4e7e6f660e23",
   "metadata": {},
   "outputs": [],
   "source": [
    "# these are specific to Husky!\n",
    "scope.adc.offset = 0\n",
    "if STREAM:\n",
    "    scope.adc.stream_mode = True\n",
    "    scope.adc.bits_per_sample = 8\n",
    "    scope.adc.samples = 8000000\n",
    "    #scope.adc.samples = 2000000\n",
    "    scope.adc.decimate = 1\n",
    "    scope.adc._timeout = 5\n",
    "    scope.gain.db = 22\n",
    "else:\n",
    "    scope.adc.stream_mode = False\n",
    "    scope.adc.bits_per_sample = 12\n",
    "    #scope.adc.samples = 24400\n",
    "    scope.adc.samples = 131070\n",
    "    scope.adc.decimate = 1\n",
    "    scope.adc._timeout = 5\n",
    "    scope.gain.db = 13"
   ]
  },
  {
   "cell_type": "code",
   "execution_count": null,
   "id": "f7bafde9-a203-40a0-ae9b-74938c702db0",
   "metadata": {},
   "outputs": [],
   "source": [
    "def num_to_bytearray(num, bit_length=256):\n",
    "    return bytearray([num >> (8*i) & 0xFF for i in range((bit_length - 1) // 8,-1,-1)][::-1])"
   ]
  },
  {
   "cell_type": "code",
   "execution_count": null,
   "id": "a862a193-ae0a-49d7-b996-1c685e4deab7",
   "metadata": {},
   "outputs": [],
   "source": [
    "# initial FW load:\n",
    "if TARGET_FREQ != 100e6:\n",
    "    target.pll.pll_outfreq_set(100e6, 1)\n",
    "prog.run(target)\n",
    "if TARGET_FREQ != 100e6:\n",
    "    target.pll.pll_outfreq_set(TARGET_FREQ, 1)\n"
   ]
  },
  {
   "cell_type": "code",
   "execution_count": null,
   "id": "fe8a04aa-93e9-442c-ba6f-397b93971d5b",
   "metadata": {},
   "outputs": [],
   "source": [
    "# capture loop: single capture per operation\n",
    "N = 2\n",
    "reset_firmware = True\n",
    "all_cycles = []\n",
    "waves = []\n",
    "from tqdm.notebook import trange\n",
    "\n",
    "for i in trange(N):\n",
    "    if reset_firmware:\n",
    "        if TARGET_FREQ != 100e6:\n",
    "            target.pll.pll_outfreq_set(100e6, 1)\n",
    "        prog.run(target)\n",
    "        if TARGET_FREQ != 100e6:\n",
    "            target.pll.pll_outfreq_set(TARGET_FREQ, 1)\n",
    "        time.sleep(0.3)\n",
    "        #time.sleep(1.5)\n",
    "        # needed for CW-lite:\n",
    "        #scope.clock.reset_adc()\n",
    "        #assert (scope.clock.adc_locked), \"ADC failed to lock\"\n",
    "        sstarget.simpleserial_write('v', bytearray())      \n",
    "    \n",
    "    sstarget.simpleserial_write('v', bytearray())\n",
    "    time.sleep(4)\n",
    "    #scope.adc.offset = i*1000000\n",
    "    #scope.adc.samples = 10000 * (i+1)\n",
    "    #scope.adc.samples = 131070\n",
    "    scope.arm()\n",
    "    if scope._is_husky:\n",
    "        start_cycles = 0\n",
    "    else:\n",
    "        start_cycles = scope.adc.trig_count\n",
    "    #k = num_to_bytearray(0xffffffffffffffffffffffffffffffff00000000000000000000000000000000)\n",
    "    #k = num_to_bytearray(0xffff0000ffff0000ffff0000ffff0000ffff0000ffff0000ffff0000ffff0000)\n",
    "    k = num_to_bytearray(0xfc0fffffffff0000ffff0000ffff000000000000000000000000000000000000)\n",
    "    #k = num_to_bytearray(0xff0f0fffffffffffffffffffffffffff00000000000000000000000000000000)\n",
    "    #k = num_to_bytearray(0x1fff0fffffffffffffffffffffffffff00000000000000000000000000000000ffffffffffffffffffffffffffffffff, 384)\n",
    "    #if i < N//2:\n",
    "    #    k = num_to_bytearray(0x1fff0fffffffffffffffffffffffffff00000000000000000000000000000000)\n",
    "    #    #k = num_to_bytearray(0x1fff0fffffffffffffffffffffffffff00000000000000000000000000000000ffffffffffffffffffffffffffffffff, 384)\n",
    "    #else:\n",
    "    #    k = num_to_bytearray(0xffffffffffffffffffffffffffffffff00000000000000000000000000000000)\n",
    "    #    #k = num_to_bytearray(0xffffffffffffffffffffffffffffffff00000000000000000000000000000000ffffffffffffffffffffffffffffffff, 384)\n",
    "\n",
    "    sstarget.simpleserial_write('p', k)\n",
    "    \n",
    "    ret = scope.capture(poll_done = True)\n",
    "    # If getting inconsistent results (e.g. variable number of cycles), adding a sufficient sleep below here appears to fix things\n",
    "    time.sleep(1)\n",
    "    if ret:\n",
    "        print('Warning: timeout during capture')\n",
    "\n",
    "    cycles = scope.adc.trig_count - start_cycles\n",
    "    all_cycles.append(cycles)\n",
    "    if cycles != 7534831:\n",
    "        print(\"Observed odd number of cycles: %d\" % cycles)\n",
    "    waves.append(scope.get_last_trace())\n"
   ]
  },
  {
   "cell_type": "code",
   "execution_count": null,
   "id": "6071d503-5c21-4155-966e-c0d43b3e2ac8",
   "metadata": {},
   "outputs": [],
   "source": [
    "scope.adc.offset = cycles - 131070"
   ]
  },
  {
   "cell_type": "code",
   "execution_count": null,
   "id": "664bb631-189d-4e45-bd5f-b0b43223a240",
   "metadata": {},
   "outputs": [],
   "source": [
    "# capture loop to capture a single full operation in multiple segments using scope.adc.offset:\n",
    "from tqdm.notebook import trange\n",
    "import numpy as np\n",
    "\n",
    "reset_firmware = True\n",
    "CYCLES = 9000000\n",
    "SAMPLES = 131070\n",
    "scope.adc.samples = SAMPLES\n",
    "segments = CYCLES // SAMPLES\n",
    "wave = np.array([])\n",
    "all_cycles = []\n",
    "\n",
    "for i in trange(segments):\n",
    "    if reset_firmware:\n",
    "        if TARGET_FREQ != 100e6:\n",
    "            target.pll.pll_outfreq_set(100e6, 1)\n",
    "        prog.run(target)\n",
    "        if TARGET_FREQ != 100e6:\n",
    "            target.pll.pll_outfreq_set(TARGET_FREQ, 1)\n",
    "        time.sleep(0.3)\n",
    "        # needed for CW-lite:\n",
    "        #scope.clock.reset_adc()\n",
    "        #assert (scope.clock.adc_locked), \"ADC failed to lock\"\n",
    "        sstarget.simpleserial_write('v', bytearray())      \n",
    "    \n",
    "    sstarget.simpleserial_write('v', bytearray())\n",
    "    scope.adc.offset = i*SAMPLES\n",
    "    scope.arm()\n",
    "    if scope._is_husky:\n",
    "        start_cycles = 0\n",
    "    else:\n",
    "        start_cycles = scope.adc.trig_count\n",
    "\n",
    "    #k = num_to_bytearray(0xffffffffffffffffffffffffffffffff00000000000000000000000000000000)\n",
    "    #k = num_to_bytearray(0xfc0fffffffff0000ffff0000ffff000000000000000000000000000000000000)\n",
    "    #k = num_to_bytearray(0x830fffffffff0000ffff0000ffff000000000000000000000000000000000000)\n",
    "    k = num_to_bytearray(0xf0cfffffffff0000ffff0000ffff000000000000000000000000000000000000)\n",
    "    sstarget.simpleserial_write('p', k)\n",
    "    \n",
    "    ret = scope.capture(poll_done = True)\n",
    "    # If getting inconsistent results (e.g. variable number of cycles), adding a sufficient sleep below here appears to fix things\n",
    "    time.sleep(1)\n",
    "    if ret:\n",
    "        print('Warning: timeout during capture')\n",
    "\n",
    "    cycles = scope.adc.trig_count - start_cycles\n",
    "    all_cycles.append(cycles)\n",
    "    if cycles != 7534831:\n",
    "        print(\"Observed odd number of cycles: %d\" % cycles)\n",
    "        \n",
    "    waves.append(scope.get_last_trace())\n",
    "    wave = np.append(wave, scope.get_last_trace())\n"
   ]
  },
  {
   "cell_type": "code",
   "execution_count": null,
   "id": "9b626e5e-7c8f-4025-8d28-db54aa92007a",
   "metadata": {},
   "outputs": [],
   "source": [
    "max(all_cycles), min(all_cycles)"
   ]
  },
  {
   "cell_type": "markdown",
   "id": "2db0b3f1-b332-48d1-9f25-d0e981bb45c4",
   "metadata": {},
   "source": [
    "## Save results for analysis with otbn_find_bits.ipynb or otbn_attack*.ipynb:"
   ]
  },
  {
   "cell_type": "code",
   "execution_count": null,
   "id": "d1a5b754-c021-4b22-a77c-bbb547127932",
   "metadata": {},
   "outputs": [],
   "source": [
    "import numpy as np\n",
    "np.save('waves_p256_100M_2s_12bitsf0c.npy', wave)"
   ]
  },
  {
   "cell_type": "markdown",
   "id": "ada3f07f-85ef-4bc2-939c-cb8e822eee27",
   "metadata": {},
   "source": [
    "### random plotting follows...."
   ]
  },
  {
   "cell_type": "code",
   "execution_count": null,
   "id": "6cd3b4ae-b7d1-412d-953b-2f68fbccdbad",
   "metadata": {},
   "outputs": [],
   "source": [
    "p = figure(plot_width=2000)\n",
    "\n",
    "#samples = 300000\n",
    "base = 0\n",
    "#samples = len(waves[0])\n",
    "#samples = len(wave)\n",
    "samples = 200000\n",
    "xrange = range(samples)\n",
    "#p.line(xrange, waves[3][base:base+samples], line_color=\"red\")\n",
    "#p.line(xrange, waves[0][base:base+samples], line_color=\"green\")\n",
    "#p.line(xrange, waves[0][base:base+samples], line_color=\"blue\")\n",
    "#p.line(xrange, waves[1][base:base+samples], line_color=\"orange\")\n",
    "#p.line(xrange, waves[2][base:base+samples], line_color=\"green\")\n",
    "\n",
    "p.line(xrange, wave[base:base+samples], line_color=\"blue\")"
   ]
  },
  {
   "cell_type": "code",
   "execution_count": null,
   "id": "d5d72620-7946-4054-b1f6-f7c6e270281c",
   "metadata": {},
   "outputs": [],
   "source": [
    "show(p)"
   ]
  },
  {
   "cell_type": "code",
   "execution_count": null,
   "id": "50229220-2dfc-4d22-8462-fac0ca31f5ac",
   "metadata": {},
   "outputs": [],
   "source": [
    "d = figure(plot_width=2000)\n",
    "\n",
    "samples = 300000\n",
    "base = 0\n",
    "samples = len(waves[0])\n",
    "xrange = range(samples)\n",
    "d.line(xrange, waves[0][base:base+samples] - waves[3][base:base+samples], line_color=\"red\")\n",
    "#d.line(xrange, waves[3][base:base+samples] - waves[2][base:base+samples], line_color=\"blue\")"
   ]
  },
  {
   "cell_type": "code",
   "execution_count": null,
   "id": "90addcef-86e4-4baf-9b33-71d9a378d0ff",
   "metadata": {},
   "outputs": [],
   "source": [
    "show(d)"
   ]
  },
  {
   "cell_type": "code",
   "execution_count": null,
   "id": "363641b3-9c02-48fa-88a0-a834872ff5fe",
   "metadata": {},
   "outputs": [],
   "source": [
    "import holoviews as hv\n",
    "from holoviews.operation import decimate\n",
    "from holoviews.operation.datashader import datashade\n",
    "hv.extension('bokeh')\n",
    "datashade(hv.Curve(waves[0][base:base+samples]-waves[3][base:base+samples])).opts(width=2000, height=900)"
   ]
  },
  {
   "cell_type": "code",
   "execution_count": null,
   "id": "b211b3f1-22af-4f1d-a108-404b4605a646",
   "metadata": {
    "tags": []
   },
   "outputs": [],
   "source": [
    "import holoviews as hv\n",
    "from holoviews.operation import decimate\n",
    "from holoviews.operation.datashader import datashade, shade, dynspread\n",
    "hv.extension('bokeh')\n",
    "\n",
    "from bokeh.models import HoverTool\n",
    "\n",
    "hover = HoverTool(mode='vline')\n",
    "\n",
    "w0 = datashade(hv.Curve(waves[0][base:base+samples]), cmap=['green'])\n",
    "w1 = datashade(hv.Curve(waves[1][base:base+samples]), cmap=['blue'])\n",
    "w2 = datashade(hv.Curve(waves[2][base:base+samples]), cmap=['purple'])\n",
    "w3 = datashade(hv.Curve(waves[3][base:base+samples]), cmap=['orange'])\n",
    "\n",
    "wf = datashade(hv.Curve(wf2[base:base+samples]), cmap=['black'])\n",
    "#(w0 * w1 * w2 * w3).opts(width=2000, height=900, tools=['hover', 'vline'])\n",
    "#(w2 * w0).opts(width=2000, height=900, tools=['hover', 'vline'])\n",
    "(w2 * wf).opts(width=2000, height=900)"
   ]
  },
  {
   "cell_type": "code",
   "execution_count": null,
   "id": "b8be89af-154a-4e27-b38f-99bf748180c5",
   "metadata": {},
   "outputs": [],
   "source": [
    "#samples = cycles\n",
    "#samples = int(3e5)\n",
    "\n",
    "import holoviews as hv\n",
    "from holoviews.operation import decimate\n",
    "from holoviews.operation.datashader import datashade, shade, dynspread\n",
    "hv.extension('bokeh')\n",
    "\n",
    "from bokeh.models import HoverTool\n",
    "\n",
    "hover = HoverTool(mode='vline')\n",
    "\n",
    "d0 = datashade(hv.Curve(wf1[base:base+samples] - wf0[base:base+samples]), cmap=['green'])\n",
    "d1 = datashade(hv.Curve(wf3[base:base+samples] - wf0[base:base+samples]), cmap=['red'])\n",
    "(d0 * d1).opts(width=2000, height=900, tools=['hover', 'vline'])\n",
    "#(d1).opts(width=2000, height=900)"
   ]
  },
  {
   "cell_type": "code",
   "execution_count": null,
   "id": "4a1268e4-cf96-4fd3-9a00-2201f903e1aa",
   "metadata": {
    "tags": []
   },
   "outputs": [],
   "source": [
    "#samples = cycles\n",
    "#samples = int(3e5)\n",
    "\n",
    "import holoviews as hv\n",
    "from holoviews.operation import decimate\n",
    "from holoviews.operation.datashader import datashade, shade, dynspread\n",
    "hv.extension('bokeh')\n",
    "\n",
    "from bokeh.models import HoverTool\n",
    "\n",
    "hover = HoverTool(mode='vline')\n",
    "\n",
    "d0 = datashade(hv.Curve(waves[1][base:base+samples] - waves[0][base:base+samples]), cmap=['green'])\n",
    "d1 = datashade(hv.Curve(waves[3][base:base+samples] - waves[0][base:base+samples]), cmap=['red'])\n",
    "(d1 * d0).opts(width=2000, height=900, tools=['hover', 'vline'])\n",
    "#(d1).opts(width=2000, height=900)"
   ]
  },
  {
   "cell_type": "code",
   "execution_count": null,
   "id": "293144ef-1b80-4dfe-9700-c699445a6c7e",
   "metadata": {
    "tags": []
   },
   "outputs": [],
   "source": [
    "import holoviews as hv\n",
    "from holoviews.operation import decimate\n",
    "from holoviews.operation.datashader import datashade, shade, dynspread\n",
    "from holoviews import opts\n",
    "import datashader as ds\n",
    "\n",
    "hv.extension('bokeh')\n",
    "\n",
    "lines = {i: hv.Curve(waves[i][base:base+samples]) for i in range(len(waves))}\n",
    "linespread = dynspread(datashade(hv.NdOverlay(lines, kdims='k'), aggregator=ds.by('k', ds.count())))\n",
    "linespread.opts(opts.RGB(width=2400, height=1200))\n"
   ]
  },
  {
   "cell_type": "code",
   "execution_count": null,
   "id": "f03be099-31bf-4c0e-a857-fb042718c966",
   "metadata": {},
   "outputs": [],
   "source": [
    "#offset = 11665\n",
    "\n",
    "import holoviews as hv\n",
    "from holoviews.operation import decimate\n",
    "from holoviews.operation.datashader import datashade, shade, dynspread\n",
    "hv.extension('bokeh')\n",
    "\n",
    "from bokeh.models import HoverTool\n",
    "\n",
    "hover = HoverTool(mode='vline')\n",
    "\n",
    "w25  = datashade(hv.Curve(waves25[0][base:base+samples]), cmap=['green'])\n",
    "w100 = datashade(hv.Curve(waves100[0][base+offset:base+offset+samples]), cmap=['blue'])\n",
    "(w25 * w100).opts(width=2000, height=900, tools=['hover', 'vline'])\n",
    "#(w100).opts(width=2000, height=900, tools=['hover', 'vline'])"
   ]
  },
  {
   "cell_type": "code",
   "execution_count": null,
   "id": "50a3fa60-2c11-4915-96ca-0a0bd24a5a92",
   "metadata": {},
   "outputs": [],
   "source": []
  }
 ],
 "metadata": {
  "kernelspec": {
   "display_name": "Python (venv37)",
   "language": "python",
   "name": "venv37"
  },
  "language_info": {
   "codemirror_mode": {
    "name": "ipython",
    "version": 3
   },
   "file_extension": ".py",
   "mimetype": "text/x-python",
   "name": "python",
   "nbconvert_exporter": "python",
   "pygments_lexer": "ipython3",
   "version": "3.7.4"
  }
 },
 "nbformat": 4,
 "nbformat_minor": 5
}
